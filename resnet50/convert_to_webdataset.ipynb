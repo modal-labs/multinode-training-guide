{
 "cells": [
  {
   "cell_type": "code",
   "execution_count": 8,
   "id": "34d1eae4-8ff6-41ff-a0cf-4fd378ff816f",
   "metadata": {},
   "outputs": [
    {
     "name": "stdout",
     "output_type": "stream",
     "text": [
      "91\n"
     ]
    }
   ],
   "source": [
    "from helpers.imagenet_classes import IMAGENET2012_CLASS_INDEXES\n",
    "import os\n",
    "\n",
    "def imagenet_samples(split: str):\n",
    "    for root, dirs, files in os.walk(f\"data/{split}\", topdown=False):\n",
    "        for fname in files:\n",
    "            if not fname.endswith(\".JPEG\"):\n",
    "                continue\n",
    "            fpath = os.path.join(root, fname)\n",
    "            with open(fpath, \"rb\") as stream:\n",
    "                binary_data = stream.read()\n",
    "            \n",
    "            _, synset_id = os.path.splitext(fname)[0].rsplit(\"_\", 1)\n",
    "            label = IMAGENET2012_CLASS_INDEXES[synset_id]\n",
    "            \n",
    "            sample = {\n",
    "                \"__key__\": os.path.splitext(fname)[0],\n",
    "                \"jpg\": binary_data,\n",
    "                \"cls\": label\n",
    "            }\n",
    "            yield sample\n",
    "\n",
    "print(next(imagenet_samples(\"val\"))[\"cls\"])"
   ]
  },
  {
   "cell_type": "code",
   "execution_count": 14,
   "id": "5062503d-b0fb-4683-80a6-e12b45071fc8",
   "metadata": {},
   "outputs": [
    {
     "name": "stdout",
     "output_type": "stream",
     "text": [
      "# writing data_out/val/000000.tar 0 0.0 GB 0\n",
      "# writing data_out/val/000001.tar 10000 1.3 GB 10000\n",
      "# writing data_out/val/000002.tar 10000 1.3 GB 20000\n",
      "# writing data_out/val/000003.tar 10000 1.3 GB 30000\n",
      "# writing data_out/val/000004.tar 10000 1.3 GB 40000\n"
     ]
    }
   ],
   "source": [
    "import webdataset as wds\n",
    "\n",
    "def write_out(split: str):\n",
    "    os.makedirs(f\"data_out/{split}\", exist_ok=True)\n",
    "    with wds.ShardWriter(f\"data_out/{split}/%06d.tar\", maxcount=10000) as sink:\n",
    "        for sample in imagenet_samples(split):\n",
    "            sink.write(sample)\n",
    "\n",
    "write_out(\"val\")"
   ]
  },
  {
   "cell_type": "code",
   "execution_count": null,
   "id": "3cdffcb1-ab96-4d70-9913-ca8b796b98cf",
   "metadata": {},
   "outputs": [],
   "source": []
  }
 ],
 "metadata": {
  "kernelspec": {
   "display_name": "Python 3 (ipykernel)",
   "language": "python",
   "name": "python3"
  },
  "language_info": {
   "codemirror_mode": {
    "name": "ipython",
    "version": 3
   },
   "file_extension": ".py",
   "mimetype": "text/x-python",
   "name": "python",
   "nbconvert_exporter": "python",
   "pygments_lexer": "ipython3",
   "version": "3.11.7"
  }
 },
 "nbformat": 4,
 "nbformat_minor": 5
}
